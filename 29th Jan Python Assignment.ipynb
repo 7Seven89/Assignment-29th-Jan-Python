{
 "cells": [
  {
   "cell_type": "markdown",
   "id": "7bfc5375-8592-4d8e-ad75-c855e537e4e4",
   "metadata": {},
   "source": [
    "**Q1. Who developed python programming language?**"
   ]
  },
  {
   "cell_type": "markdown",
   "id": "d8879e6f-3967-4123-aa88-eb9813dd75b8",
   "metadata": {},
   "source": [
    "A1. Python programming language was developed by Guido van Rossum. Guido started working on Python in the late 1980s, and the first version, Python 0.9.0, was released in February 1991. Guido van Rossum continued to lead the development of Python for many years and has been widely recognized as the \"Benevolent Dictator For Life\" (BDFL) of the Python community."
   ]
  },
  {
   "cell_type": "markdown",
   "id": "c7c83a67-c10e-4d1c-935b-674eedb38cf0",
   "metadata": {},
   "source": [
    "**Q2. Which type of programming does python support?**"
   ]
  },
  {
   "cell_type": "markdown",
   "id": "edaf1125-773a-4fce-9ae4-8f7b19bfe434",
   "metadata": {},
   "source": [
    "A2. Python supports different ways of writing programs, known as programming paradigms. Here are the main programming paradigms supported by Python:\n",
    "\n",
    "1. **Procedural Programming**: Python lets you write programs using procedures or functions that perform specific tasks step by step.\n",
    "\n",
    "2. **Object-Oriented Programming (OOP)**: Python has strong support for OOP, allowing you to create classes and objects to model real-world entities. It includes features like encapsulation, inheritance, and polymorphism.\n",
    "\n",
    "3. **Functional Programming**: Python supports functional programming concepts such as using functions as first-class citizens, lambda expressions, and functional-style operations like map, filter, and reduce.\n",
    "\n",
    "4. **Imperative Programming**: In Python, you can write programs in an imperative style, where statements are executed sequentially to change the program's state.\n",
    "\n",
    "5. **Declarative Programming**: While not fully declarative, Python supports some declarative aspects, especially with libraries like Pandas (for data manipulation) and SQLalchemy (for database operations) that allow you to express operations in a declarative manner.\n",
    "\n",
    "Python's support for these paradigms gives developers the flexibility to choose the approach that best suits their programming needs."
   ]
  },
  {
   "cell_type": "markdown",
   "id": "95216e1b-c0f5-416f-8a8f-d06f13a40bd0",
   "metadata": {},
   "source": [
    "**Q3. Is python case sensitive when dealing with identifiers?**"
   ]
  },
  {
   "cell_type": "markdown",
   "id": "539abc1e-7c5b-48d1-ae8a-0e66fd7cd986",
   "metadata": {},
   "source": [
    "A3. Yes, Python is case sensitive when dealing with identifiers such as variable names, function names, class names, and so on. This means that uppercase and lowercase letters are treated as distinct and separate entities in Python."
   ]
  },
  {
   "cell_type": "markdown",
   "id": "a94e204d-1c36-4da6-a06e-632fbfacd9d5",
   "metadata": {},
   "source": [
    "**Q4. What is the correct extension of the python file?**"
   ]
  },
  {
   "cell_type": "markdown",
   "id": "11686fd4-a9d6-4890-8b96-4b87dc1bd218",
   "metadata": {},
   "source": [
    "A4. The correct extension for a Python file is .py. When you save a Python script or program, you should use the .py extension as part of the file name."
   ]
  },
  {
   "cell_type": "markdown",
   "id": "3028f846-ae7c-4956-a1a6-767d40fabe8a",
   "metadata": {},
   "source": [
    "**Q5. Is python code compiled or interpreted?**"
   ]
  },
  {
   "cell_type": "markdown",
   "id": "00d33851-e325-4b49-9189-6eac866921f6",
   "metadata": {},
   "source": [
    "A5. Python code is both compiled and interpreted. When you write Python code, it is first compiled into bytecode by the Python interpreter. This bytecode is then executed by the interpreter's runtime environment."
   ]
  },
  {
   "cell_type": "markdown",
   "id": "a8840f02-2985-4428-8e4c-58816bb718a8",
   "metadata": {},
   "source": [
    "**Q6. Name a few blocks of code used to define in Python language.**"
   ]
  },
  {
   "cell_type": "markdown",
   "id": "254b91ff-7192-4287-ba57-3bf042018f35",
   "metadata": {},
   "source": [
    "A6. In Python, several blocks of code are used to define different structures and functionalities. Here are a few essential blocks of code in Python:"
   ]
  },
  {
   "cell_type": "code",
   "execution_count": null,
   "id": "f760fa03-ac03-4d95-af3e-8149be90e615",
   "metadata": {},
   "outputs": [],
   "source": [
    "# if and else:\n",
    "\n",
    "if condition:\n",
    "    print(\"Condition is True\")\n",
    "else:\n",
    "    print(\"Condition is False\")"
   ]
  },
  {
   "cell_type": "code",
   "execution_count": 3,
   "id": "6b90fcff-5aa5-4f3b-83ea-801056ce1a78",
   "metadata": {},
   "outputs": [],
   "source": [
    "# Class:\n",
    "\n",
    "class test_class:\n",
    "    def __init__(self, name, age, course):\n",
    "        self.name = name\n",
    "        self.age = age\n",
    "        self.course = course\n",
    "\n",
    "    def test_method(self):\n",
    "        print(\"Hello from PWskills\")"
   ]
  },
  {
   "cell_type": "code",
   "execution_count": null,
   "id": "1f2a0486-f9d2-4816-af74-2f1b9cdbe24a",
   "metadata": {},
   "outputs": [],
   "source": [
    "# Loops:\n",
    "\n",
    "for i in range(10):\n",
    "    print(i)\n",
    "\n",
    "while condition:\n",
    "    print(\"Looping\" )"
   ]
  },
  {
   "cell_type": "markdown",
   "id": "8b6c3131-0f6d-4e85-bed5-c519d2ff6c46",
   "metadata": {},
   "source": [
    "**Q7. State a character used to give single-line comments in python.**"
   ]
  },
  {
   "cell_type": "markdown",
   "id": "fc2fd354-ca5a-42a8-bcff-9ecc9a3c9383",
   "metadata": {},
   "source": [
    "A7. In Python, the character \"#\" (hash or pound symbol) is used to denote single-line comments. Anything following the \"#\" symbol on a line is considered a comment and is ignored by the Python interpreter during execution."
   ]
  },
  {
   "cell_type": "markdown",
   "id": "8aa33d91-cbe9-4b1c-b752-e3e309100bcd",
   "metadata": {},
   "source": [
    "**Q8. Mention the functions which can help use to find the version of python that we are currently working on.**"
   ]
  },
  {
   "cell_type": "markdown",
   "id": "976383fe-b599-4c23-869e-4007873f5791",
   "metadata": {},
   "source": [
    "A8. Following functions can be used to find the version of Python that you are currently working on:"
   ]
  },
  {
   "cell_type": "code",
   "execution_count": 5,
   "id": "4a3d7844-4605-492c-b63d-86cabb80170c",
   "metadata": {},
   "outputs": [
    {
     "name": "stdout",
     "output_type": "stream",
     "text": [
      "3.12.2 (tags/v3.12.2:6abddd9, Feb  6 2024, 21:26:36) [MSC v.1937 64 bit (AMD64)]\n"
     ]
    }
   ],
   "source": [
    "import sys\n",
    "print(sys.version)"
   ]
  },
  {
   "cell_type": "code",
   "execution_count": 6,
   "id": "6108b2e9-67eb-4a20-bedc-55557439d905",
   "metadata": {},
   "outputs": [
    {
     "name": "stdout",
     "output_type": "stream",
     "text": [
      "3.12.2\n"
     ]
    }
   ],
   "source": [
    "import platform\n",
    "print(platform.python_version())"
   ]
  },
  {
   "cell_type": "markdown",
   "id": "f9275a59-4690-400f-86a0-7e3708c957aa",
   "metadata": {},
   "source": [
    "**Q9. Python supports the creation of anonymous functions at runtime, using a construct called ......**"
   ]
  },
  {
   "cell_type": "markdown",
   "id": "4319e584-0388-47c7-8485-f5fe6414d6de",
   "metadata": {},
   "source": [
    "A9. lambda function."
   ]
  },
  {
   "cell_type": "markdown",
   "id": "1c12708c-7f0a-4b8b-9a4f-ed1a0dafa55c",
   "metadata": {},
   "source": [
    "**Q10. What does pip stand for python?**"
   ]
  },
  {
   "cell_type": "markdown",
   "id": "383e956f-0c5a-49d1-81d2-b417659e5df0",
   "metadata": {},
   "source": [
    "A10. PIP stands for \"Preferred Installer Program\" or \"Pip Installs Packages\". It is a package manager for Python that is used to install and manage software packages written in Python."
   ]
  },
  {
   "cell_type": "markdown",
   "id": "91681998-538a-428d-a427-e241a0bc1856",
   "metadata": {},
   "source": [
    "**Q11. Mention a few built-in functions in python.**"
   ]
  },
  {
   "cell_type": "markdown",
   "id": "9e54eb23-71e3-4b72-8c37-050a76339979",
   "metadata": {},
   "source": [
    "A11. Few built-in functions in python are:\n",
    "1. **print()**: Used to print output to the console.\n",
    "2. **len()**: Returns the length (number of items) of an object such as a list, tuple, string, etc.\n",
    "3. **type()**: Returns the type of an object.\n",
    "4. **input()**: Reads input from the user through the console.\n",
    "5. **int()**: Converts a value to an integer."
   ]
  },
  {
   "cell_type": "markdown",
   "id": "c9b162cd-4796-474c-ac2d-14d2445a0814",
   "metadata": {},
   "source": [
    "**Q12. What is the maximum possible length of an identifier in python?**"
   ]
  },
  {
   "cell_type": "markdown",
   "id": "1171b985-2fbc-4f32-81dc-e162d02989a6",
   "metadata": {},
   "source": [
    "A12. In Python, the maximum possible length of an identifier (such as variable names, function names, class names, etc.) is implementation-dependent. This means that the length limit can vary depending on the Python implementation and version you are using.\n",
    "\n",
    "However, according to the official Python documentation, the practical maximum length for identifiers is typically around 255 characters. This length should be sufficient for most practical purposes and adheres to the recommendations for clean and readable code."
   ]
  },
  {
   "cell_type": "markdown",
   "id": "275cb8e5-700c-4313-8821-0b511eca153f",
   "metadata": {},
   "source": [
    "**Q13. What are the benefits of using python?**"
   ]
  },
  {
   "cell_type": "markdown",
   "id": "c3195131-9e91-486a-a76f-a7f12785a2a6",
   "metadata": {},
   "source": [
    "A13. Some benefits of python are:\n",
    "1. **Readability and Simplicity**: Python's syntax is designed to be easy to read and understand, making it accessible to beginners and experienced programmers alike.\n",
    "\n",
    "2. **Versatility and Flexibility**: Python can be used for a wide range of applications, including web development, data analysis, artificial intelligence, and more. It supports multiple programming paradigms.\n",
    "\n",
    "3. **Rich Standard Library**: Python comes with a comprehensive standard library that provides ready-to-use modules and functions for various tasks.\n",
    "\n",
    "4. **Community and Ecosystem**: Python has a large and active community of developers who contribute to its growth. This community has created a vast ecosystem of libraries, frameworks, and tools.\n",
    "\n",
    "5. **Cross-Platform Compatibility**: Python is a cross-platform language, allowing code to run on various operating systems without modification."
   ]
  },
  {
   "cell_type": "markdown",
   "id": "4ac9c7d1-3ae3-48bf-a521-3e81dafa1102",
   "metadata": {},
   "source": [
    "**Q14. How is memory managed in python?**"
   ]
  },
  {
   "cell_type": "markdown",
   "id": "bf2768bb-540d-4d16-b409-784b0bc47516",
   "metadata": {},
   "source": [
    "A14. \n",
    "\n",
    "- **Automatic Memory Management**: Python automatically handles memory allocation and deallocation for objects.\n",
    "\n",
    "- **Reference Counting**: Objects' reference counts are used to track the number of references to them.\n",
    "\n",
    "- **Garbage Collection**: Python's garbage collector periodically scans and collects objects with zero reference counts to free up memory.\n",
    "\n",
    "- **Memory Pools**: Memory pools are used to efficiently manage memory for small objects.\n",
    "\n",
    "- **Memory Optimizations**: Python implements various optimizations like object reuse, string interning, and memory sharing to reduce memory usage and improve performance."
   ]
  },
  {
   "cell_type": "markdown",
   "id": "00765384-5d0b-4b52-b679-d50dbab34e7a",
   "metadata": {},
   "source": [
    "**Q15. How to install python on windows and set path variables?**"
   ]
  },
  {
   "cell_type": "markdown",
   "id": "9365d603-02f9-4ea7-b001-915a6a94aa2f",
   "metadata": {},
   "source": [
    "A15.\n",
    "\n",
    "1. **Download Python**:\n",
    "   - Visit the [official Python website](https://www.python.org/).\n",
    "   - Go to the \"Downloads\" section and download the installer for your Windows system (32-bit or 64-bit).\n",
    "\n",
    "2. **Run the Installer**:\n",
    "   - Double-click on the downloaded installer to run it.\n",
    "   - Check the box that says \"Add Python 3.x to PATH\" during installation.\n",
    "   - Click \"Install Now\" to start the installation process.\n",
    "\n",
    "3. **Verify Installation**:\n",
    "   - Open a command prompt or PowerShell window.\n",
    "   - Type `python --version` or `python -V` to check if Python is installed and accessible from the command line.\n",
    "\n",
    "4. **Set Additional Path Variables (Optional)**:\n",
    "   - Right-click on \"This PC\" or \"My Computer\" and select \"Properties.\"\n",
    "   - Click on \"Advanced system settings\" and then \"Environment Variables.\"\n",
    "   - Edit the PATH variable to include the Python installation directory (e.g., `C:\\Python39`).\n",
    "\n",
    "5. **Test Python Installation**:\n",
    "   - Open a new command prompt or PowerShell window.\n",
    "   - Type `python` and press Enter to open the Python interpreter.\n",
    "   - Verify that the Python prompt (`>>>`) appears, indicating that Python is working correctly.\n"
   ]
  },
  {
   "cell_type": "markdown",
   "id": "91875fb7-494a-4635-b883-e58bebe9d316",
   "metadata": {},
   "source": [
    "**Q16. Is indentation required in python?**"
   ]
  },
  {
   "cell_type": "markdown",
   "id": "1eecdb69-7574-483b-ae9c-e3c7933ae0f0",
   "metadata": {},
   "source": [
    "A16. Yes, indentation is required in Python. Indentation is used to define the structure and hierarchy of code blocks in Python, such as loops, conditional statements, and function definitions. The standard convention in Python is to use four spaces for each level of indentation, although some developers may prefer to use tabs instead."
   ]
  }
 ],
 "metadata": {
  "kernelspec": {
   "display_name": "Python 3 (ipykernel)",
   "language": "python",
   "name": "python3"
  },
  "language_info": {
   "codemirror_mode": {
    "name": "ipython",
    "version": 3
   },
   "file_extension": ".py",
   "mimetype": "text/x-python",
   "name": "python",
   "nbconvert_exporter": "python",
   "pygments_lexer": "ipython3",
   "version": "3.12.2"
  }
 },
 "nbformat": 4,
 "nbformat_minor": 5
}
